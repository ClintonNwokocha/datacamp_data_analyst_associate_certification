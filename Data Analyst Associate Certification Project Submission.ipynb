{
 "cells": [
  {
   "cell_type": "markdown",
   "id": "b2f0e45c",
   "metadata": {},
   "source": [
    "# DataCamp Data Analyst Certification: Food Claims Analysis\n",
    "\n",
    "## Author: [Clinton Nwokocha]\n",
    "## Certification: DataCamp Data Analyst \n",
    "\n",
    "This notebook presents the analysis performed as part of the Data Analyst Certification course from DataCamp. "
   ]
  },
  {
   "cell_type": "code",
   "execution_count": 1,
   "id": "d563ed89",
   "metadata": {},
   "outputs": [],
   "source": [
    "# importing libraries\n",
    "import pandas as pd\n",
    "import numpy as np\n",
    "import seaborn as sns\n",
    "import matplotlib.pyplot as plt\n",
    "\n",
    "# display outputs inline\n",
    "%matplotlib inline\n",
    "\n",
    "# see all columns, rows and entire text context\n",
    "pd.set_option('display.max_columns', None)\n",
    "pd.set_option('display.max_rows', None)\n",
    "pd.set_option('display.max_colwidth', None)"
   ]
  },
  {
   "cell_type": "code",
   "execution_count": 2,
   "id": "0a13c0e7",
   "metadata": {},
   "outputs": [],
   "source": [
    "# load dataset\n",
    "food_claims = pd.read_csv('food_claims_2212.csv')"
   ]
  },
  {
   "cell_type": "markdown",
   "id": "fedc313e",
   "metadata": {},
   "source": [
    "## Data Validation"
   ]
  },
  {
   "cell_type": "code",
   "execution_count": 3,
   "id": "cf61c97e",
   "metadata": {},
   "outputs": [
    {
     "name": "stdout",
     "output_type": "stream",
     "text": [
      "<class 'pandas.core.frame.DataFrame'>\n",
      "RangeIndex: 2000 entries, 0 to 1999\n",
      "Data columns (total 8 columns):\n",
      " #   Column                Non-Null Count  Dtype  \n",
      "---  ------                --------------  -----  \n",
      " 0   claim_id              2000 non-null   int64  \n",
      " 1   time_to_close         2000 non-null   int64  \n",
      " 2   claim_amount          2000 non-null   object \n",
      " 3   amount_paid           1964 non-null   float64\n",
      " 4   location              2000 non-null   object \n",
      " 5   individuals_on_claim  2000 non-null   int64  \n",
      " 6   linked_cases          1974 non-null   object \n",
      " 7   cause                 2000 non-null   object \n",
      "dtypes: float64(1), int64(3), object(4)\n",
      "memory usage: 125.1+ KB\n"
     ]
    }
   ],
   "source": [
    "# Display summary information about the DataFrame, including the number of non-null entries in each column and their data types.\n",
    "\n",
    "food_claims.info()"
   ]
  },
  {
   "cell_type": "code",
   "execution_count": 4,
   "id": "a9294f84",
   "metadata": {},
   "outputs": [
    {
     "name": "stdout",
     "output_type": "stream",
     "text": [
      "Unique values in cause: ['unknown' 'meat' 'vegetable' ' Meat' 'VEGETABLES']\n",
      "Are all causes correct? False\n"
     ]
    }
   ],
   "source": [
    "# Check unique values in 'cause'\n",
    "unique_causes = food_claims['cause'].unique()\n",
    "\n",
    "print('Unique values in cause:', unique_causes)\n",
    "\n",
    "# Check if all unique values are in the expected list\n",
    "expected_causes = [\"vegetable\", \"meat\", \"unknown\"]\n",
    "correct_causes = all(cause in expected_causes for cause in unique_causes)\n",
    "\n",
    "print('Are all causes correct?', correct_causes)\n"
   ]
  },
  {
   "cell_type": "code",
   "execution_count": 5,
   "id": "bcf15aaa",
   "metadata": {},
   "outputs": [
    {
     "data": {
      "text/plain": [
       "0"
      ]
     },
     "execution_count": 5,
     "metadata": {},
     "output_type": "execute_result"
    }
   ],
   "source": [
    "# Calculate and print the number of missing (NaN) values in the 'cause' column of the food_claims DataFrame.\n",
    "food_claims['cause'].isna().sum()"
   ]
  },
  {
   "cell_type": "code",
   "execution_count": 6,
   "id": "fc565f6d",
   "metadata": {},
   "outputs": [
    {
     "name": "stdout",
     "output_type": "stream",
     "text": [
      "Unique values in cause: ['unknown' 'meat' 'vegetable' ' Meat' 'VEGETABLES']\n",
      "Are all causes correct? False\n"
     ]
    }
   ],
   "source": [
    "# Check unique values in 'cause'\n",
    "unique_causes = food_claims['cause'].unique()\n",
    "\n",
    "print('Unique values in cause:', unique_causes)\n",
    "\n",
    "# Check if all unique values are in the expected list\n",
    "expected_causes = [\"vegetable\", \"meat\", \"unknown\"]\n",
    "correct_causes = all(cause in expected_causes for cause in unique_causes)\n",
    "\n",
    "print('Are all causes correct?', correct_causes)\n"
   ]
  },
  {
   "cell_type": "code",
   "execution_count": 7,
   "id": "e58d1ecd",
   "metadata": {},
   "outputs": [
    {
     "data": {
      "text/html": [
       "<div>\n",
       "<style scoped>\n",
       "    .dataframe tbody tr th:only-of-type {\n",
       "        vertical-align: middle;\n",
       "    }\n",
       "\n",
       "    .dataframe tbody tr th {\n",
       "        vertical-align: top;\n",
       "    }\n",
       "\n",
       "    .dataframe thead th {\n",
       "        text-align: right;\n",
       "    }\n",
       "</style>\n",
       "<table border=\"1\" class=\"dataframe\">\n",
       "  <thead>\n",
       "    <tr style=\"text-align: right;\">\n",
       "      <th></th>\n",
       "      <th>claim_id</th>\n",
       "      <th>time_to_close</th>\n",
       "      <th>claim_amount</th>\n",
       "      <th>amount_paid</th>\n",
       "      <th>location</th>\n",
       "      <th>individuals_on_claim</th>\n",
       "      <th>linked_cases</th>\n",
       "      <th>cause</th>\n",
       "    </tr>\n",
       "  </thead>\n",
       "  <tbody>\n",
       "    <tr>\n",
       "      <th>1046</th>\n",
       "      <td>1047</td>\n",
       "      <td>249</td>\n",
       "      <td>R$ 46246.44</td>\n",
       "      <td>41302.44</td>\n",
       "      <td>RECIFE</td>\n",
       "      <td>12</td>\n",
       "      <td>False</td>\n",
       "      <td>unknown</td>\n",
       "    </tr>\n",
       "    <tr>\n",
       "      <th>1345</th>\n",
       "      <td>1346</td>\n",
       "      <td>178</td>\n",
       "      <td>R$ 8419.64</td>\n",
       "      <td>7970.65</td>\n",
       "      <td>FORTALEZA</td>\n",
       "      <td>3</td>\n",
       "      <td>True</td>\n",
       "      <td>meat</td>\n",
       "    </tr>\n",
       "    <tr>\n",
       "      <th>1735</th>\n",
       "      <td>1736</td>\n",
       "      <td>214</td>\n",
       "      <td>R$ 31320.01</td>\n",
       "      <td>21022.77</td>\n",
       "      <td>FORTALEZA</td>\n",
       "      <td>8</td>\n",
       "      <td>False</td>\n",
       "      <td>meat</td>\n",
       "    </tr>\n",
       "    <tr>\n",
       "      <th>1627</th>\n",
       "      <td>1628</td>\n",
       "      <td>214</td>\n",
       "      <td>R$ 39509.72</td>\n",
       "      <td>30290.36</td>\n",
       "      <td>RECIFE</td>\n",
       "      <td>12</td>\n",
       "      <td>False</td>\n",
       "      <td>meat</td>\n",
       "    </tr>\n",
       "    <tr>\n",
       "      <th>1547</th>\n",
       "      <td>1548</td>\n",
       "      <td>175</td>\n",
       "      <td>R$ 48474.05</td>\n",
       "      <td>42801.63</td>\n",
       "      <td>RECIFE</td>\n",
       "      <td>12</td>\n",
       "      <td>False</td>\n",
       "      <td>unknown</td>\n",
       "    </tr>\n",
       "    <tr>\n",
       "      <th>734</th>\n",
       "      <td>735</td>\n",
       "      <td>159</td>\n",
       "      <td>R$ 25835.85</td>\n",
       "      <td>21406.27</td>\n",
       "      <td>RECIFE</td>\n",
       "      <td>9</td>\n",
       "      <td>False</td>\n",
       "      <td>meat</td>\n",
       "    </tr>\n",
       "    <tr>\n",
       "      <th>298</th>\n",
       "      <td>299</td>\n",
       "      <td>184</td>\n",
       "      <td>R$ 48905.64</td>\n",
       "      <td>42685.10</td>\n",
       "      <td>FORTALEZA</td>\n",
       "      <td>12</td>\n",
       "      <td>True</td>\n",
       "      <td>unknown</td>\n",
       "    </tr>\n",
       "    <tr>\n",
       "      <th>1563</th>\n",
       "      <td>1564</td>\n",
       "      <td>136</td>\n",
       "      <td>R$ 5495.45</td>\n",
       "      <td>4280.52</td>\n",
       "      <td>RECIFE</td>\n",
       "      <td>3</td>\n",
       "      <td>False</td>\n",
       "      <td>vegetable</td>\n",
       "    </tr>\n",
       "    <tr>\n",
       "      <th>388</th>\n",
       "      <td>389</td>\n",
       "      <td>102</td>\n",
       "      <td>R$ 3276.98</td>\n",
       "      <td>2666.33</td>\n",
       "      <td>SAO LUIS</td>\n",
       "      <td>1</td>\n",
       "      <td>False</td>\n",
       "      <td>meat</td>\n",
       "    </tr>\n",
       "    <tr>\n",
       "      <th>1103</th>\n",
       "      <td>1104</td>\n",
       "      <td>338</td>\n",
       "      <td>R$ 56989.26</td>\n",
       "      <td>NaN</td>\n",
       "      <td>RECIFE</td>\n",
       "      <td>11</td>\n",
       "      <td>False</td>\n",
       "      <td>unknown</td>\n",
       "    </tr>\n",
       "  </tbody>\n",
       "</table>\n",
       "</div>"
      ],
      "text/plain": [
       "      claim_id  time_to_close claim_amount  amount_paid   location  \\\n",
       "1046      1047            249  R$ 46246.44     41302.44     RECIFE   \n",
       "1345      1346            178   R$ 8419.64      7970.65  FORTALEZA   \n",
       "1735      1736            214  R$ 31320.01     21022.77  FORTALEZA   \n",
       "1627      1628            214  R$ 39509.72     30290.36     RECIFE   \n",
       "1547      1548            175  R$ 48474.05     42801.63     RECIFE   \n",
       "734        735            159  R$ 25835.85     21406.27     RECIFE   \n",
       "298        299            184  R$ 48905.64     42685.10  FORTALEZA   \n",
       "1563      1564            136   R$ 5495.45      4280.52     RECIFE   \n",
       "388        389            102   R$ 3276.98      2666.33   SAO LUIS   \n",
       "1103      1104            338  R$ 56989.26          NaN     RECIFE   \n",
       "\n",
       "      individuals_on_claim linked_cases      cause  \n",
       "1046                    12        False    unknown  \n",
       "1345                     3         True       meat  \n",
       "1735                     8        False       meat  \n",
       "1627                    12        False       meat  \n",
       "1547                    12        False    unknown  \n",
       "734                      9        False       meat  \n",
       "298                     12         True    unknown  \n",
       "1563                     3        False  vegetable  \n",
       "388                      1        False       meat  \n",
       "1103                    11        False    unknown  "
      ]
     },
     "execution_count": 7,
     "metadata": {},
     "output_type": "execute_result"
    }
   ],
   "source": [
    "# Select and display a random sample of 10 rows from the food_claims DataFrame.\n",
    "food_claims.sample(10)"
   ]
  },
  {
   "cell_type": "code",
   "execution_count": 8,
   "id": "d6343d6a",
   "metadata": {},
   "outputs": [],
   "source": [
    "# remove the 'R$ ' prefix and convert the values to float\n",
    "food_claims['claim_amount'] = food_claims['claim_amount'].replace('R\\$ ', '', regex=True).astype(float)\n"
   ]
  },
  {
   "cell_type": "code",
   "execution_count": 9,
   "id": "92fd2bf5",
   "metadata": {},
   "outputs": [
    {
     "name": "stdout",
     "output_type": "stream",
     "text": [
      "Are all values rounded to two decimal places? True\n"
     ]
    }
   ],
   "source": [
    "# check that all values are rounded to two decimal places\n",
    "all_two_decimals = all(round(val, 2) == val for val in food_claims['claim_amount'])\n",
    "\n",
    "print('Are all values rounded to two decimal places?', all_two_decimals)"
   ]
  },
  {
   "cell_type": "code",
   "execution_count": 10,
   "id": "b43b0583",
   "metadata": {},
   "outputs": [],
   "source": [
    "food_claims['claim_amount'] = pd.to_numeric(food_claims['claim_amount'])"
   ]
  },
  {
   "cell_type": "code",
   "execution_count": 11,
   "id": "bb496f21",
   "metadata": {},
   "outputs": [
    {
     "name": "stdout",
     "output_type": "stream",
     "text": [
      "Unique values in location: ['RECIFE' 'FORTALEZA' 'SAO LUIS' 'NATAL']\n",
      "Are all locations correct? True\n"
     ]
    }
   ],
   "source": [
    "# Check unique values in 'location'\n",
    "unique_locations = food_claims['location'].unique()\n",
    "\n",
    "print('Unique values in location:', unique_locations)\n",
    "\n",
    "# Check if all unique values are in the expected list\n",
    "expected_locations = [\"RECIFE\", \"SAO LUIS\", \"FORTALEZA\", \"NATAL\"]\n",
    "correct_locations = all(location in expected_locations for location in unique_locations)\n",
    "\n",
    "print('Are all locations correct?', correct_locations)\n"
   ]
  },
  {
   "cell_type": "code",
   "execution_count": 12,
   "id": "dd5a4583",
   "metadata": {},
   "outputs": [
    {
     "name": "stdout",
     "output_type": "stream",
     "text": [
      "Are all values discrete? True\n",
      "Is the minimum value 1? True\n"
     ]
    }
   ],
   "source": [
    "# Check if all values are integers (discrete)\n",
    "all_discrete = all(isinstance(val, int) for val in food_claims['individuals_on_claim'])\n",
    "\n",
    "# Check the minimum value in 'individuals_on_claim'\n",
    "min_individuals = food_claims['individuals_on_claim'].min()\n",
    "\n",
    "print('Are all values discrete?', all_discrete)\n",
    "print('Is the minimum value 1?', min_individuals == 1)\n"
   ]
  },
  {
   "cell_type": "code",
   "execution_count": 13,
   "id": "ea1ade20",
   "metadata": {},
   "outputs": [
    {
     "data": {
      "text/html": [
       "<div>\n",
       "<style scoped>\n",
       "    .dataframe tbody tr th:only-of-type {\n",
       "        vertical-align: middle;\n",
       "    }\n",
       "\n",
       "    .dataframe tbody tr th {\n",
       "        vertical-align: top;\n",
       "    }\n",
       "\n",
       "    .dataframe thead th {\n",
       "        text-align: right;\n",
       "    }\n",
       "</style>\n",
       "<table border=\"1\" class=\"dataframe\">\n",
       "  <thead>\n",
       "    <tr style=\"text-align: right;\">\n",
       "      <th></th>\n",
       "      <th>claim_id</th>\n",
       "      <th>time_to_close</th>\n",
       "      <th>claim_amount</th>\n",
       "      <th>amount_paid</th>\n",
       "      <th>location</th>\n",
       "      <th>individuals_on_claim</th>\n",
       "      <th>linked_cases</th>\n",
       "      <th>cause</th>\n",
       "    </tr>\n",
       "  </thead>\n",
       "  <tbody>\n",
       "  </tbody>\n",
       "</table>\n",
       "</div>"
      ],
      "text/plain": [
       "Empty DataFrame\n",
       "Columns: [claim_id, time_to_close, claim_amount, amount_paid, location, individuals_on_claim, linked_cases, cause]\n",
       "Index: []"
      ]
     },
     "execution_count": 13,
     "metadata": {},
     "output_type": "execute_result"
    }
   ],
   "source": [
    "# Calculate the median of the 'amount_paid' column in the food_claims DataFrame.\n",
    "median_paid = food_claims['amount_paid'].median() \n",
    "\n",
    "# Replace missing values in the 'amount_paid' column with the calculated median.\n",
    "food_claims['amount_paid'] = food_claims['claim_amount'].fillna(median_paid)\n",
    "\n",
    "# Display all rows in the food_claims DataFrame where 'amount_paid' is still missing (NaN).\n",
    "food_claims[food_claims['amount_paid'].isna()] \n"
   ]
  },
  {
   "cell_type": "code",
   "execution_count": 14,
   "id": "ac889765",
   "metadata": {},
   "outputs": [
    {
     "data": {
      "text/html": [
       "<div>\n",
       "<style scoped>\n",
       "    .dataframe tbody tr th:only-of-type {\n",
       "        vertical-align: middle;\n",
       "    }\n",
       "\n",
       "    .dataframe tbody tr th {\n",
       "        vertical-align: top;\n",
       "    }\n",
       "\n",
       "    .dataframe thead th {\n",
       "        text-align: right;\n",
       "    }\n",
       "</style>\n",
       "<table border=\"1\" class=\"dataframe\">\n",
       "  <thead>\n",
       "    <tr style=\"text-align: right;\">\n",
       "      <th></th>\n",
       "      <th>claim_id</th>\n",
       "      <th>time_to_close</th>\n",
       "      <th>claim_amount</th>\n",
       "      <th>amount_paid</th>\n",
       "      <th>location</th>\n",
       "      <th>individuals_on_claim</th>\n",
       "      <th>linked_cases</th>\n",
       "      <th>cause</th>\n",
       "    </tr>\n",
       "  </thead>\n",
       "  <tbody>\n",
       "  </tbody>\n",
       "</table>\n",
       "</div>"
      ],
      "text/plain": [
       "Empty DataFrame\n",
       "Columns: [claim_id, time_to_close, claim_amount, amount_paid, location, individuals_on_claim, linked_cases, cause]\n",
       "Index: []"
      ]
     },
     "execution_count": 14,
     "metadata": {},
     "output_type": "execute_result"
    }
   ],
   "source": [
    "# Replace missing values in the 'linked_cases' column with the string 'False'.\n",
    "food_claims['linked_cases'] = food_claims['linked_cases'].fillna('False')\n",
    "\n",
    "# Display all rows in the food_claims DataFrame where 'linked_cases' is still missing (NaN).\n",
    "food_claims[food_claims['linked_cases'].isna()]\n"
   ]
  },
  {
   "cell_type": "code",
   "execution_count": 15,
   "id": "ff2d3861",
   "metadata": {},
   "outputs": [
    {
     "data": {
      "text/plain": [
       "array(['unknown', 'meat', 'vegetable', ' Meat', 'VEGETABLES'],\n",
       "      dtype=object)"
      ]
     },
     "execution_count": 15,
     "metadata": {},
     "output_type": "execute_result"
    }
   ],
   "source": [
    "# Display all unique values in the 'cause' column of the food_claims DataFrame.\n",
    "food_claims['cause'].unique()"
   ]
  },
  {
   "cell_type": "code",
   "execution_count": 16,
   "id": "cbe767aa",
   "metadata": {},
   "outputs": [],
   "source": [
    "# Replace specific values in the 'cause' column of the food_claims DataFrame. \n",
    "# Specifically, replacing ' Meat' with 'meat', and 'VEGETABLES' with 'vegetable'.\n",
    "food_claims['cause'] = food_claims['cause'].replace({' Meat': 'meat', 'VEGETABLES':'vegetable'}, regex =True)"
   ]
  },
  {
   "cell_type": "code",
   "execution_count": 17,
   "id": "8c4410da",
   "metadata": {},
   "outputs": [],
   "source": [
    "# Convert the 'time_to_close' column in the food_claims DataFrame to a numeric data type. \n",
    "# If a value cannot be converted (because it's not a valid number), it's replaced with NaN.\n",
    "food_claims['time_to_close'] = pd.to_numeric(food_claims['time_to_close'], errors='coerce')\n"
   ]
  },
  {
   "cell_type": "markdown",
   "id": "687084e2",
   "metadata": {},
   "source": [
    "## Task 1\n",
    " \n",
    " For every column in the data:\n",
    "-State whether the values match the description given in the table above.\n",
    "\n",
    "-State the number of missing values in the column.\n",
    "\n",
    "-Describe what you did to make values match the description if they did not\n",
    "\n",
    "*Solution*\n",
    "\n",
    "**claim_id**: This column is of nominal datatype, having 2000 unique and 2000 distinct values, It has no duplicates making it a perfect identifier for each claims. It had 0 missing values.It meets the criteria, no changes were made.\n",
    "\n",
    "**time_to_close**: Values in  this column are discrete, there are no missing values, They are all positive values and meet with the description given so no changes were made.\n",
    "\n",
    "**claim_amount**: They contained the brazilian currency symbol, had no missing values and were rounded to 2 decimal places, the brazilian currency symbol was stripped off of each value and added to the column to make it more descriptive and keep the values numeric.\n",
    "\n",
    "**amount_paid**: The values were continuous and rounded to two decimal places are required by the criteria, missing values in this column were 36 in numbers and they were replaced with the overall median amount paid which is '20105.70' rounded to 2 decimal places, the brazilian currency symbol wa added to the column name to make it more descriptive.\n",
    "\n",
    "**location**: The values in this column were nominal, it has 4 unique values which are 'RECIFE' 'FORTALEZA' 'SAO LUIS' 'NATAL' and corresponds with those in the description, there are missing values and no changes were made.\n",
    "\n",
    "**individuals_on_claim**: The values were discrete, The minimum value is 1 and there are no missing values which meets the criteria so no changes were made.\n",
    "\n",
    "**linked_cases**: Its values were nominal and matched the description, It had 26 missing values which were replaced with FALSE.\n",
    "\n",
    "**cause**: Its values were nominal, it had no missing values, it had 5 unique values which contradicts its description, the five values were 'unknown', 'meat', 'vegetable', ' Meat', 'VEGETABLES', the odd ones are 'Meat' and 'VEGETABLES' and they were replaced with 'meat' and 'vegetable'.\n",
    "\n"
   ]
  },
  {
   "cell_type": "markdown",
   "id": "8e286eea",
   "metadata": {},
   "source": [
    "## Task 2\n",
    "Create a visualization that shows the number of claims in each location. Use the visualization to:\n",
    "- State which category of the variable location has the most observations\n",
    "\n",
    "-Explain whether the observations are balanced across categories of the variable location\n",
    "\n",
    "*Solution* "
   ]
  },
  {
   "cell_type": "code",
   "execution_count": 18,
   "id": "35451b71",
   "metadata": {},
   "outputs": [
    {
     "data": {
      "image/png": "[encoded data removed]",
      "text/plain": [
       "<Figure size 600x400 with 1 Axes>"
      ]
     },
     "metadata": {},
     "output_type": "display_data"
    }
   ],
   "source": [
    "# count the number of claims in each location\n",
    "location_counts = food_claims['location'].value_counts()\n",
    "\n",
    "# create a bar plot\n",
    "plt.figure(figsize=(6,4))\n",
    "location_counts.plot(kind='bar', color='skyblue')\n",
    "plt.title('Number of Claims in Each Location')\n",
    "plt.xlabel('Location')\n",
    "plt.ylabel('Number of Claims')\n",
    "plt.show()\n"
   ]
  },
  {
   "cell_type": "markdown",
   "id": "25c311d2",
   "metadata": {},
   "source": [
    "Below are the counts of claim for each location, with RECIFE having the most  claims amongst the four locations;\n",
    "- RECIFE       885\n",
    "- SAO LUIS     517\n",
    "- FORTALEZA    311\n",
    "- NATAL        287\n",
    "\n",
    "The claims are not balanced across categories of the location variable. They vary significantly among the locations. RRECIFE has more than three times the number of claims as NATAL, similar trend though of lesser difference is observed across other locations.\n"
   ]
  },
  {
   "cell_type": "markdown",
   "id": "2676a487",
   "metadata": {},
   "source": [
    "## Task 3\n",
    "\n",
    "Describe the distribution of time to close for all claims. Your answer must include a visualization that shows the distribution.\n",
    "\n",
    "**Solution**"
   ]
  },
  {
   "cell_type": "code",
   "execution_count": 19,
   "id": "6d04a781",
   "metadata": {},
   "outputs": [
    {
     "data": {
      "image/png": "[encoded data removed]",
      "text/plain": [
       "<Figure size 600x400 with 1 Axes>"
      ]
     },
     "metadata": {},
     "output_type": "display_data"
    }
   ],
   "source": [
    "\n",
    "plt.figure(figsize=(6,4))\n",
    "sns.histplot(food_claims['time_to_close'], kde=True, bins=30, color='skyblue')\n",
    "plt.title('Distribution of Time to Close for All Claims')\n",
    "plt.xlabel('Time to Close (days)')\n",
    "plt.ylabel('Frequency')\n",
    "plt.show()\n"
   ]
  },
  {
   "cell_type": "markdown",
   "id": "e8c1ecc6",
   "metadata": {},
   "source": [
    "The distribution of time to close is positively skewed, this indicates that there are relatively fewer claims with shorter times to close and a higher frequency of claims with longer times to close.\n",
    "The peak of the distribution, as indicated by the highest frequency at 150 and 160, is towards the right side of the distribution. This means that a significant number of claims have relatively longer times to close.\n",
    "The spread of the data, ranging from 95 to 537, suggests that the times to close for the claims vary widely. There are claims with relatively shorter times to close (as low as 95) and claims with longer times to close (up to 537).\n",
    "This suggests that the times to close for the claims span a relatively wide range.The legal team should focus on reducing the overall closure time and addressing the cases with longer durations to improve efficiency."
   ]
  },
  {
   "cell_type": "markdown",
   "id": "da837a77",
   "metadata": {},
   "source": [
    "## Task 4\n",
    "\n",
    "Describe the relationship between time to close and location. Your answer must\n",
    "include a visualization to demonstrate the relationship.\n",
    "\n",
    "**Solution**"
   ]
  },
  {
   "cell_type": "code",
   "execution_count": 20,
   "id": "55ebaa4f",
   "metadata": {},
   "outputs": [
    {
     "data": {
      "image/png": "[encoded data removed]",
      "text/plain": [
       "<Figure size 600x400 with 1 Axes>"
      ]
     },
     "metadata": {},
     "output_type": "display_data"
    }
   ],
   "source": [
    "plt.figure(figsize=(6,4))\n",
    "sns.boxplot(x='location', y='time_to_close', data=food_claims)\n",
    "plt.title('Time to Close by Location')\n",
    "plt.xlabel('Location')\n",
    "plt.ylabel('Time to Close (days)')\n",
    "plt.show()"
   ]
  },
  {
   "cell_type": "markdown",
   "id": "726ef0bc",
   "metadata": {},
   "source": [
    "Mean values for time to close are relatively similar across the different locations. However, there are variations in the presence of outliers, with São Luís having the most outliers, followed by Fortaleza, Recife, and Natal with the least.\n",
    "\n",
    "This indicates that there might be some differences in the distribution of time to close across locations, particularly in terms of the presence of extreme values or anomalies. The higher number of outliers in São Luís and Fortaleza suggests a potentially wider spread or greater variability in the time it takes to close claims in those locations compared to Recife and Natal.The legal team should focus on improving the overall claim closure time across all locations rather than emphasizing specific locations.\n"
   ]
  },
  {
   "cell_type": "code",
   "execution_count": null,
   "id": "9b6e28d0",
   "metadata": {},
   "outputs": [],
   "source": []
  }
 ],
 "metadata": {
  "kernelspec": {
   "display_name": "Python 3 (ipykernel)",
   "language": "python",
   "name": "python3"
  },
  "language_info": {
   "codemirror_mode": {
    "name": "ipython",
    "version": 3
   },
   "file_extension": ".py",
   "mimetype": "text/x-python",
   "name": "python",
   "nbconvert_exporter": "python",
   "pygments_lexer": "ipython3",
   "version": "3.9.13"
  }
 },
 "nbformat": 4,
 "nbformat_minor": 5
}
